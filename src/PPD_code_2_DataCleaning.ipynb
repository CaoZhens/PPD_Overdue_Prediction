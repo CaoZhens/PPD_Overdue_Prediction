{
 "cells": [
  {
   "cell_type": "code",
   "execution_count": 1,
   "metadata": {
    "collapsed": false
   },
   "outputs": [],
   "source": [
    "import numpy as np\n",
    "import pandas as pd\n",
    "import re\n",
    "import scipy.stats as st\n",
    "import sklearn.metrics as met\n",
    "import matplotlib.pyplot as plt\n",
    "import sklearn.preprocessing as prep\n",
    "import time\n",
    "import copy\n",
    "\n",
    "%matplotlib inline\n",
    "title = 'PPD'\n",
    "path = '../sources/data/PPD-First-Round-Data'\n",
    "icy = 'target'"
   ]
  },
  {
   "cell_type": "markdown",
   "metadata": {},
   "source": [
    "# PPD"
   ]
  },
  {
   "cell_type": "markdown",
   "metadata": {},
   "source": [
    "## Reload Data\n",
    "Load data from database, then concatenate and summerize data"
   ]
  },
  {
   "cell_type": "code",
   "execution_count": 2,
   "metadata": {
    "collapsed": false
   },
   "outputs": [
    {
     "name": "stdout",
     "output_type": "stream",
     "text": [
      "(49999, 227)\n",
      "(966431, 2)\n",
      "(621295, 1)\n"
     ]
    }
   ],
   "source": [
    "pathofDataSaving = '../sources/deal/PPD-Data-Saving'\n",
    "da = pd.read_hdf('{}/{}_da.h5'.format(pathofDataSaving, title), key = 'da')\n",
    "dah1 = pd.read_hdf('{}/{}_dah1.h5'.format(pathofDataSaving, title), key = 'dah')\n",
    "dah2 = pd.read_hdf('{}/{}_dah2.h5'.format(pathofDataSaving, title), key = 'dah')\n",
    "irt = np.load('{}/{}_irt.npy'.format(pathofDataSaving, title))\n",
    "irv = np.load('{}/{}_irv.npy'.format(pathofDataSaving, title))\n",
    "print da.shape\n",
    "# print dah1.shape\n",
    "# print dah2.shape"
   ]
  },
  {
   "cell_type": "markdown",
   "metadata": {},
   "source": [
    "### Preprocessing & Concatenate Historical Data with Master Data"
   ]
  },
  {
   "cell_type": "code",
   "execution_count": 4,
   "metadata": {
    "collapsed": false
   },
   "outputs": [
    {
     "data": {
      "text/plain": [
       "(49999, 352)"
      ]
     },
     "execution_count": 4,
     "metadata": {},
     "output_type": "execute_result"
    }
   ],
   "source": [
    "def Preprocess_historicalData(dah, iccat, name, da):\n",
    "    grp1 = dah.reset_index()[[\"Id\", \"Time\"]].groupby(\"Id\")\n",
    "    grp2 = dah.groupby(level = [\"Id\", \"Time\"]).first().reset_index()[[\"Id\", \"Time\"]].groupby(\"Id\")\n",
    "    dahc1 = pd.concat([grp1.first(), grp1.count()], axis = 1, ignore_index = True).rename(columns = {0:\"FirstTime\", 1:\"Count\"})\n",
    "    dahc1 = dahc1.assign(DayFreq = grp2.count()[\"Time\"]/(1-dahc1[\"FirstTime\"])).loc[da.index]\n",
    "    dahc2 = dah.reset_index().groupby([\"Id\"]+iccat).count().unstack(iccat)[\"Time\"].loc[da.index]\n",
    "    dahc = pd.concat([dahc1, pd.DataFrame({\"Cats\": dahc2.notnull().sum(axis = 1)}), dahc2], axis = 1).fillna(0)\n",
    "    dahc.columns = [\"{}_{}\".format(name, x) for x in dahc.columns]\n",
    "    return(dahc)\n",
    "\n",
    "dah1c = Preprocess_historicalData(dah1, list(dah1.columns), 'Log', da)\n",
    "dah2c = Preprocess_historicalData(dah2, list(dah2.columns), 'Userupdate', da)\n",
    "# print dah1c.head()\n",
    "# print dah2c.head()\n",
    "da = pd.concat([da, dah1c, dah2c], axis = 1)\n",
    "da.shape"
   ]
  },
  {
   "cell_type": "markdown",
   "metadata": {},
   "source": [
    "### Summarize Data\n",
    "Get univariate summary statistics of data:\n",
    "* Non-NA values for all variables\n",
    "* The 5 most frequent values for all variables\n",
    "* Mean, standard error, and quantiles for numeric variables"
   ]
  },
  {
   "cell_type": "code",
   "execution_count": 5,
   "metadata": {
    "collapsed": false
   },
   "outputs": [],
   "source": [
    "def Value_counts(das, nhead = 5):\n",
    "    tmp = pd.value_counts(das).reset_index().rename_axis({'index': das.name}, axis = 1)\n",
    "    value = pd.DataFrame(['value {}'.format(x+1) for x in range(nhead)], index = np.arange(nhead)).join(tmp.iloc[:,0], how = 'left').set_index(0).T\n",
    "    freq = pd.DataFrame(['freq {}'.format(x+1) for x in range(nhead)], index = np.arange(nhead)).join(tmp.iloc[:,1], how = 'left').set_index(0).T\n",
    "    nnull = das.isnull().sum()\n",
    "    freqother = pd.DataFrame({das.name: [das.shape[0]-nnull-np.nansum(freq.values), nnull]}, index = ['freq others', 'freq NA']).T\n",
    "    op = pd.concat([value, freq, freqother], axis = 1)\n",
    "    return(op)\n",
    "\n",
    "def Summary(da):\n",
    "    op = pd.concat([pd.DataFrame({'type': da.dtypes, 'non-NA': da.notnull().sum(axis = 0)}), \n",
    "                    da.describe().T.iloc[:,1:], \n",
    "                    pd.concat(map(lambda i: Value_counts(da.loc[:,i]), da.columns))], axis = 1).loc[da.columns]\n",
    "    op.index.name = 'Columns'\n",
    "    return(op)\n",
    "# Summary(da)\n",
    "# Summary(da).to_csv('./PPD-Data-Saving/{}_summary_da.csv'.format(path, title), encoding='utf-8')"
   ]
  },
  {
   "cell_type": "markdown",
   "metadata": {},
   "source": [
    "## Clean Data\n",
    "\n",
    "Input Data: \n",
    "* da: master data. types: Numeric, Categorical, Time, or a series of similar columns\n",
    "* daa*: appendix data for da\n",
    "    * PPD_daa.csv: additional description of data types 原始数据:各字段数据类型说明\n",
    "    * cnd_da_city_0.csv: China city rank data 外部数据1:中国城市等级\n",
    "    * cnd_da_city_1.csv: China province/city/county longitudinal/latitudinal data 外部数据2:中国城市经纬度\n",
    "* ictype: a dict indicating types of and methods for columns of da\n",
    "\n",
    "Processing:\n",
    "1. Prepare daa and ictype for transforming da\n",
    "1. Transforming all of da columns into numeric according to ictype\n",
    "    * Numeric: Keep\n",
    "    * Non-numeric: \n",
    "        * With additional information: Mapping into numeric\n",
    "            * Ordinal: As numeric\n",
    "            * Time: Transform into days and cycles of year, month, week\n",
    "            * With information in appendix data: Mapping into numeric according to daa*\n",
    "        * Without additional information: Mapping into 0-1 dummy variables from one-hot encoding, combining or deleting low frequency categories\n",
    "    * A series of similar columns: Transform the column series into columns of summary statistics, keeping or deleting original columns\n",
    "    * Count NA numbers in different series of variables\n",
    "1. Deleting the columns with almost all identical or NA values\n",
    "1. Deleting the columns with serious collinearity with any column before\n",
    "\n",
    "Output Data:\n",
    "* dac: cleaned data. types: numeric\n"
   ]
  },
  {
   "cell_type": "markdown",
   "metadata": {},
   "source": [
    "### 加载外部数据并处理\n",
    "\n",
    "daa —— 字段类型说明  \n",
    "cnd_da_city_0 —— 城市等级  \n",
    "cnd_da_city_1 —— 城市所在经纬度  "
   ]
  },
  {
   "cell_type": "code",
   "execution_count": 6,
   "metadata": {
    "collapsed": false
   },
   "outputs": [
    {
     "data": {
      "text/html": [
       "<div>\n",
       "<style>\n",
       "    .dataframe thead tr:only-child th {\n",
       "        text-align: right;\n",
       "    }\n",
       "\n",
       "    .dataframe thead th {\n",
       "        text-align: left;\n",
       "    }\n",
       "\n",
       "    .dataframe tbody tr th {\n",
       "        vertical-align: top;\n",
       "    }\n",
       "</style>\n",
       "<table border=\"1\" class=\"dataframe\">\n",
       "  <thead>\n",
       "    <tr style=\"text-align: right;\">\n",
       "      <th></th>\n",
       "      <th>Longitude</th>\n",
       "      <th>Latitude</th>\n",
       "      <th>LongpLat</th>\n",
       "      <th>LongmLat</th>\n",
       "      <th>CityRank</th>\n",
       "    </tr>\n",
       "    <tr>\n",
       "      <th>index</th>\n",
       "      <th></th>\n",
       "      <th></th>\n",
       "      <th></th>\n",
       "      <th></th>\n",
       "      <th></th>\n",
       "    </tr>\n",
       "  </thead>\n",
       "  <tbody>\n",
       "    <tr>\n",
       "      <th>北京</th>\n",
       "      <td>116.40</td>\n",
       "      <td>39.90</td>\n",
       "      <td>156.30</td>\n",
       "      <td>76.50</td>\n",
       "      <td>1.0</td>\n",
       "    </tr>\n",
       "    <tr>\n",
       "      <th>天津</th>\n",
       "      <td>117.20</td>\n",
       "      <td>39.12</td>\n",
       "      <td>156.32</td>\n",
       "      <td>78.08</td>\n",
       "      <td>1.0</td>\n",
       "    </tr>\n",
       "    <tr>\n",
       "      <th>河北</th>\n",
       "      <td>114.52</td>\n",
       "      <td>38.05</td>\n",
       "      <td>152.57</td>\n",
       "      <td>76.47</td>\n",
       "      <td>NaN</td>\n",
       "    </tr>\n",
       "    <tr>\n",
       "      <th>山西</th>\n",
       "      <td>112.55</td>\n",
       "      <td>37.87</td>\n",
       "      <td>150.42</td>\n",
       "      <td>74.68</td>\n",
       "      <td>NaN</td>\n",
       "    </tr>\n",
       "    <tr>\n",
       "      <th>内蒙古自治区</th>\n",
       "      <td>111.73</td>\n",
       "      <td>40.83</td>\n",
       "      <td>152.56</td>\n",
       "      <td>70.90</td>\n",
       "      <td>NaN</td>\n",
       "    </tr>\n",
       "  </tbody>\n",
       "</table>\n",
       "</div>"
      ],
      "text/plain": [
       "        Longitude  Latitude  LongpLat  LongmLat  CityRank\n",
       "index                                                    \n",
       "北京         116.40     39.90    156.30     76.50       1.0\n",
       "天津         117.20     39.12    156.32     78.08       1.0\n",
       "河北         114.52     38.05    152.57     76.47       NaN\n",
       "山西         112.55     37.87    150.42     74.68       NaN\n",
       "内蒙古自治区     111.73     40.83    152.56     70.90       NaN"
      ]
     },
     "execution_count": 6,
     "metadata": {},
     "output_type": "execute_result"
    }
   ],
   "source": [
    "def Del_string(xstr):\n",
    "    xstrc = xstr.strip().strip(u'市').strip(u'省')\n",
    "    if(xstrc == ''):\n",
    "        xstrc = np.nan\n",
    "    return(xstrc)\n",
    "\n",
    "daa = pd.read_csv('{}/{}_daa.csv'.format(path, title), index_col = 'Column')['Type']\n",
    "daacity0 = pd.read_csv('{}/cnd_da_city_0.csv'.format(path), encoding = 'GB18030', index_col = 0)\n",
    "daacity1 = pd.read_csv('{}/cnd_da_city_1.csv'.format(path), encoding = 'GB18030',\\\n",
    "                       converters = {'Prov': Del_string, 'City': Del_string, 'District': Del_string})\n",
    "\n",
    "daacity1= (pd.concat(map(lambda i: daacity1.drop_duplicates([i]).set_index([i]).iloc[:,2:], [\"Prov\", \"City\", \"District\"]))\n",
    "            .reset_index().drop_duplicates([\"index\"]).set_index([\"index\"]))\n",
    "daacity = daacity1.join(daacity0, how = \"left\")\n",
    "daacity.head()"
   ]
  },
  {
   "cell_type": "markdown",
   "metadata": {},
   "source": [
    "### 设置ictype: \n",
    "#### ictype is a dict indicating types of and methods for columns of da, ictype 给出了字段类型&预处理方法\n",
    "* ['UserInfo_{}'.format(i) for i in [2, 4, 8, 20, 7, 19]] 均与省市相关，单独处理，处理方法即catmapd\n",
    "* thirdparty相关的字段均为数值化字段,一共119个,观察它们的统计量情况发现，不同period的相同后缀字段统计量相似，因此对它们进行一次汇总处理；备注：按'_'分割后提取013信息,而不是023\n",
    "* catbin相关字段是需要分箱的字段"
   ]
  },
  {
   "cell_type": "code",
   "execution_count": 7,
   "metadata": {
    "collapsed": false
   },
   "outputs": [],
   "source": [
    "def Col_group(ic, i = 0):\n",
    "    cols = pd.Series([x.split('_')[i] for x in ic], index = ic)\n",
    "    return(cols)\n",
    "\n",
    "ictype = {'y': ['target'],\n",
    "          'date': ['ListingInfo'],\n",
    "          'catmap': ['UserInfo_{}'.format(i) for i in [2, 4, 8, 20, 7, 19]],\n",
    "          'catmapd': [daacity]*6,\n",
    "        }\n",
    "ictype['cols'] = Col_group(da.drop(ictype['y'], axis = 1).columns)\n",
    "tmp = ictype['cols'].index[ictype['cols'] == 'ThirdParty']\n",
    "ictype['serials'] = pd.Series(['_'.join([x.split('_')[i] for i in [0,1,3]]) for x in tmp], index = tmp) # 013！\n",
    "ictype['catbin'] = list((set(daa.index[daa == 'Categorical'])|set(da.columns[da.dtypes == 'O'])) - set(ictype['catmap']))"
   ]
  },
  {
   "cell_type": "code",
   "execution_count": 65,
   "metadata": {
    "collapsed": false
   },
   "outputs": [],
   "source": [
    "# ictype['cols']"
   ]
  },
  {
   "cell_type": "markdown",
   "metadata": {},
   "source": [
    "#### ThirdParty:\n",
    "\n",
    "thirdparty相关的字段均为数值化字段,一共119个,观察它们的统计量情况发现，不同period的相同后缀字段统计量相似，因此对它们进行一次汇总处理；"
   ]
  },
  {
   "cell_type": "markdown",
   "metadata": {},
   "source": [
    "### 定义预处理相关功能函数\n",
    "* 数据预处理过程\n",
    "    * 统一缺失值表达方式为np.nan\n",
    "    "
   ]
  },
  {
   "cell_type": "markdown",
   "metadata": {},
   "source": [
    "#### 关联外部数据（经纬度 & 城市等级）\n",
    "\n",
    "1. 设置城市名为index并与外部数据做left join\n",
    "2. 恢复原有index\n",
    "3. 缺失值填充\n",
    "只保留经纬度和城市等级，城市名称不要了；**也可以作为一种逻辑特征数值化的方式**"
   ]
  },
  {
   "cell_type": "markdown",
   "metadata": {},
   "source": [
    "#### 计算统计量  \n",
    "\n",
    "1. 对前三个字端2 4 8计算统计量(median / std)"
   ]
  },
  {
   "cell_type": "markdown",
   "metadata": {},
   "source": [
    "#### 数值特征按统计量合并\n",
    " \n",
    " ThirdParty"
   ]
  },
  {
   "cell_type": "code",
   "execution_count": 8,
   "metadata": {
    "collapsed": false
   },
   "outputs": [],
   "source": [
    "def Time_to_num(das):\n",
    "    tmp = pd.DatetimeIndex(das)\n",
    "    daop = pd.DataFrame(dict(zip(*[[\"{}_{}\".format(das.name, i) for i in [\"Day\", \"Year\", \"DayofYear\", \"DayofMonth\", \"DayofWeek\"]], \n",
    "                                   [(das - das.min()).astype('timedelta64[D]').astype(int), tmp.year, tmp.dayofyear, tmp.day, tmp.dayofweek]])),\n",
    "                        index = das.index)\n",
    "    return(daop)\n",
    "\n",
    "def Cat_map(das, damap, fillna = {\"CityRank\":6}):\n",
    "    daop = das.reset_index().set_index([das.name]).join(damap, how = \"left\").set_index(das.index.name).reindex(das.index).fillna(fillna)\n",
    "    daop.columns = [\"{}_{}\".format(das.name, i) for i in damap.columns]\n",
    "    return(daop)\n",
    "\n",
    "# 备注：由于trainset和testset放在一起处理，因此不需要对cat做排序处理！\n",
    "# 备注：因为有中文，因此函数体内注意修改为unicode字符\n",
    "def Cat_to_bin(das, a = 0.01):\n",
    "    '''Transfrom a categorical column to onehotencoding'''\n",
    "    tmp = pd.value_counts(das)/das.shape[0]\n",
    "    cat = list(tmp.index[tmp > a])\n",
    "    enc = prep.OneHotEncoder(n_values = len(cat)+1, sparse = False)\n",
    "    xbin = enc.fit_transform(np.transpose(\n",
    "            [das.astype('category').cat.set_categories(cat).cat.rename_categories(1+np.arange(len(cat))).astype('float').fillna(0).values]))[:,1:]     \n",
    "    dabin = pd.DataFrame(xbin, columns = [u'{}_{}'.format(das.name, x) for x in cat], index = das.index)    \n",
    "    if(tmp[tmp <= a].sum() > a):\n",
    "        dabin = pd.concat([dabin, pd.DataFrame({u'{}_Others'.format(das.name):das.notnull()-dabin.sum(axis = 1)})], axis = 1)\n",
    "    if(dabin.shape[1] == 2):\n",
    "        dabin = pd.DataFrame({das.name: xbin[:,0]}, index = das.index)\n",
    "    return(dabin)\n",
    "\n",
    "def Append_col_name(da, name):\n",
    "    return(da.rename(columns = dict(zip(*[list(da.columns), [\"{}_{}\".format(x, name) for x in da.columns]]))))\n",
    "def ColS_fillna(da, cols, f = \"median\", allNA = 0):\n",
    "    dafill = getattr(da[cols.index].groupby(cols, axis = 1), f)()[cols]\n",
    "    dafill.columns = cols.index\n",
    "    daop = da[cols.index].fillna(dafill).fillna(allNA)\n",
    "    return(daop)\n",
    "\n",
    "def ColS_summary(da, cols, f = [\"median\", \"std\"]):\n",
    "    grp = da[cols.index].groupby(cols, axis = 1)\n",
    "    daop = pd.concat(map(lambda x: Append_col_name(getattr(grp, x)(), x), f), axis = 1)\n",
    "    return(daop)\n",
    "\n",
    "def Clean_data_without(da, ictype, a = 0.01):\n",
    "    '''Transform and clean columns according to types'''\n",
    "    dac = da.copy().replace([-np.inf, np.inf], np.nan).replace(u'不详', np.nan)\n",
    "    dac.loc[:, \"UserInfo_20\"] = dac.loc[:, \"UserInfo_20\"].fillna(dac.loc[:, \"UserInfo_19\"]) # 这个好像没道理啊\n",
    "    datime = pd.concat(map(lambda i: Time_to_num(dac.loc[:,i]), ictype['date']), axis = 1) # ok\n",
    "    dacatmap = pd.concat(map(lambda i: Cat_map(dac.loc[:,ictype[\"catmap\"][i]], ictype[\"catmapd\"][i]), range(len(ictype[\"catmap\"]))), axis = 1)\n",
    "    # 为什么只计算前面2 4 8的对应中位数和标准差？\n",
    "    # 为什么后面只保留20，而7和19却不要了？ - 因为7和19是省级信息\n",
    "    dacatmap = pd.concat([dacatmap.iloc[:,15:20], ColS_summary(dacatmap, \n",
    "        pd.Series([\"_\".join([x.split(\"_\")[i] for i in [0,2]]) for x in dacatmap.columns[:15]], index = dacatmap.columns[:15]))], axis = 1)\n",
    "    # 为什么又要把userinfo_19加进来做catbin？\n",
    "    dacatbin  = pd.concat(map(lambda i: Cat_to_bin(dac.loc[:,i], a = a), ictype[\"catbin\"]+[ictype[\"catmap\"][-1]]), axis = 1)\n",
    "    daS = ColS_summary(dac, ictype[\"serials\"], [\"median\", \"std\", \"min\", \"max\", \"first\"]).fillna(0)\n",
    "    cols = Col_group(daS.columns, i = -1)\n",
    "    daS.loc[:,cols == \"max\"] = daS.loc[:,cols == \"max\"] - daS.loc[:,cols == \"median\"].values # 为什么做这种处理？\n",
    "    dacount = ColS_summary(dac, ictype[\"cols\"], [\"count\"])\n",
    "    dac = pd.concat([dac.drop(ictype[\"date\"] + ictype[\"catmap\"] + ictype[\"catbin\"] + list(ictype[\"serials\"].index), axis = 1), \n",
    "                     datime, dacatmap, dacatbin, daS, dacount], axis = 1)\n",
    "#     tmp = pd.concat(map(lambda i: Value_counts(dac.loc[:,i]), dac.columns))\n",
    "    # 删除稀疏变量：空值／同一值占绝大比例的列（99.9%）\n",
    "#     dac = dac.loc[:, (tmp[\"freq 1\"] + tmp[\"freq NA\"])/dac.shape[0] < 1 - a]\n",
    "#     dac = dac.drop(dac.columns[np.any(np.abs(np.tril(np.corrcoef(dac.rank(pct = True).fillna(0.5).values, rowvar = 0), -1)) > 0.99, axis = 0)], axis = 1)\n",
    "    return(dac)\n",
    "\n",
    "def Clean_data(da, ictype, a = 0.01):\n",
    "    '''Transform and clean columns according to types'''\n",
    "    dac = da.copy().replace([-np.inf, np.inf], np.nan).replace(u'不详', np.nan)\n",
    "    dac.loc[:, \"UserInfo_20\"] = dac.loc[:, \"UserInfo_20\"].fillna(dac.loc[:, \"UserInfo_19\"]) # 这个好像没道理啊\n",
    "    datime = pd.concat(map(lambda i: Time_to_num(dac.loc[:,i]), ictype['date']), axis = 1) # ok\n",
    "    dacatmap = pd.concat(map(lambda i: Cat_map(dac.loc[:,ictype[\"catmap\"][i]], ictype[\"catmapd\"][i]), range(len(ictype[\"catmap\"]))), axis = 1)\n",
    "    # 为什么只计算前面2 4 8的对应中位数和标准差？\n",
    "    # 为什么后面只保留20，而7和19却不要了？ - 因为7和19是省级信息\n",
    "    dacatmap = pd.concat([dacatmap.iloc[:,15:20], ColS_summary(dacatmap, \n",
    "        pd.Series([\"_\".join([x.split(\"_\")[i] for i in [0,2]]) for x in dacatmap.columns[:15]], index = dacatmap.columns[:15]))], axis = 1)\n",
    "    # 为什么又要把userinfo_19加进来做catbin？\n",
    "    dacatbin  = pd.concat(map(lambda i: Cat_to_bin(dac.loc[:,i], a = a), ictype[\"catbin\"]+[ictype[\"catmap\"][-1]]), axis = 1)\n",
    "    daS = ColS_summary(dac, ictype[\"serials\"], [\"median\", \"std\", \"min\", \"max\", \"first\"]).fillna(0)\n",
    "    cols = Col_group(daS.columns, i = -1)\n",
    "    daS.loc[:,cols == \"max\"] = daS.loc[:,cols == \"max\"] - daS.loc[:,cols == \"median\"].values # 为什么做这种处理？\n",
    "    dacount = ColS_summary(dac, ictype[\"cols\"], [\"count\"])\n",
    "    dac = pd.concat([dac.drop(ictype[\"date\"] + ictype[\"catmap\"] + ictype[\"catbin\"] + list(ictype[\"serials\"].index), axis = 1), \n",
    "                     datime, dacatmap, dacatbin, daS, dacount], axis = 1)\n",
    "    tmp = pd.concat(map(lambda i: Value_counts(dac.loc[:,i]), dac.columns))\n",
    "    # 删除稀疏变量：空值／同一值占绝大比例的列（99.9%）\n",
    "    dac = dac.loc[:, (tmp[\"freq 1\"] + tmp[\"freq NA\"])/dac.shape[0] < 1 - a]\n",
    "    dac = dac.drop(dac.columns[np.any(np.abs(np.tril(np.corrcoef(dac.rank(pct = True).fillna(0.5).values, rowvar = 0), k=-1)) > 0.99, axis = 0)], axis = 1)\n",
    "    return(dac)"
   ]
  },
  {
   "cell_type": "code",
   "execution_count": 9,
   "metadata": {
    "collapsed": false,
    "scrolled": true
   },
   "outputs": [
    {
     "name": "stdout",
     "output_type": "stream",
     "text": [
      "(49999, 389)\n"
     ]
    },
    {
     "name": "stderr",
     "output_type": "stream",
     "text": [
      "/Users/fanghan/anaconda/lib/python2.7/site-packages/pandas/io/pytables.py:280: PerformanceWarning: \n",
      "your performance may suffer as PyTables will pickle object types that it cannot\n",
      "map directly to c-types [inferred_type->mixed,key->axis0] [items->None]\n",
      "\n",
      "  f(store)\n",
      "/Users/fanghan/anaconda/lib/python2.7/site-packages/pandas/io/pytables.py:280: PerformanceWarning: \n",
      "your performance may suffer as PyTables will pickle object types that it cannot\n",
      "map directly to c-types [inferred_type->mixed,key->block0_items] [items->None]\n",
      "\n",
      "  f(store)\n",
      "/Users/fanghan/anaconda/lib/python2.7/site-packages/pandas/io/pytables.py:280: PerformanceWarning: \n",
      "your performance may suffer as PyTables will pickle object types that it cannot\n",
      "map directly to c-types [inferred_type->mixed,key->block1_items] [items->None]\n",
      "\n",
      "  f(store)\n"
     ]
    }
   ],
   "source": [
    "dac = Clean_data(da, ictype, a = 0.001)\n",
    "# Summary(dac).to_csv('{}/{}_summary_dac.csv'.format(path, title), encoding='utf-8')\n",
    "print dac.shape\n",
    "# persistence storing\n",
    "dac.to_hdf('{}/{}_dac.h5'.format(pathofDataSaving, title), key = 'dac', complib = 'zlib', complevel = 1, mode = 'w')"
   ]
  },
  {
   "cell_type": "markdown",
   "metadata": {},
   "source": [
    "#### 删除稀疏变量 & 共线性变量"
   ]
  },
  {
   "cell_type": "code",
   "execution_count": 12,
   "metadata": {
    "collapsed": false
   },
   "outputs": [
    {
     "data": {
      "text/plain": [
       "(49999, 313)"
      ]
     },
     "execution_count": 12,
     "metadata": {},
     "output_type": "execute_result"
    }
   ],
   "source": [
    "dac_without = Clean_data_without(da, ictype, a = 0.001)\n",
    "tmp = pd.concat(map(lambda i: Value_counts(dac_without.loc[:, i]), dac_without.columns))\n",
    "# (tmp['freq 1'] + tmp['freq NA']) / dac_without.shape[0]\n",
    "a = 0.01\n",
    "dac_without = dac_without.loc[:, (tmp['freq 1'] + tmp['freq NA'])/dac_without.shape[0] < 1 - a]\n",
    "dac_without_fillna = dac_without.fillna(dac_without.median(), axis=0)\n",
    "# 备注：fillna的inplace属性默认为false; 为了保留未填充数据源，应该将该属性设置为False\n",
    "dac_without_fillna.shape"
   ]
  },
  {
   "cell_type": "code",
   "execution_count": 24,
   "metadata": {
    "collapsed": false
   },
   "outputs": [
    {
     "name": "stdout",
     "output_type": "stream",
     "text": [
      "[[ nan  nan  nan  nan  nan]\n",
      " [ nan  nan  nan  nan  nan]\n",
      " [ nan  nan  nan  nan  nan]\n",
      " [ nan  nan  nan  nan  nan]\n",
      " [ nan  nan  nan  nan  nan]]\n"
     ]
    }
   ],
   "source": [
    "test = dac_without.head(5)\n",
    "print np.corrcoef(test.values)\n",
    "# 备注：不能有缺失值"
   ]
  },
  {
   "cell_type": "code",
   "execution_count": 25,
   "metadata": {
    "collapsed": false
   },
   "outputs": [
    {
     "name": "stdout",
     "output_type": "stream",
     "text": [
      "[[ 1.          0.49872009  0.69350135  0.4175202   0.38736173]\n",
      " [ 0.49872009  1.          0.76960136  0.83354554  0.29341353]\n",
      " [ 0.69350135  0.76960136  1.          0.81964402  0.34134347]\n",
      " [ 0.4175202   0.83354554  0.81964402  1.          0.33063761]\n",
      " [ 0.38736173  0.29341353  0.34134347  0.33063761  1.        ]]\n"
     ]
    }
   ],
   "source": [
    "test = dac_without_fillna.head(5)\n",
    "print np.corrcoef(test.values)\n",
    "# 备注：np.corrcoef仍以行变量为准，但是多了一个可调参数rowvar"
   ]
  },
  {
   "cell_type": "code",
   "execution_count": 45,
   "metadata": {
    "collapsed": false
   },
   "outputs": [
    {
     "data": {
      "text/plain": [
       "array([[ 1.        ,  0.05412385,  0.06241185, ..., -0.00908662,\n",
       "        -0.01924782,  0.00632743],\n",
       "       [ 0.05412385,  1.        ,  0.35596026, ..., -0.0154443 ,\n",
       "        -0.09388586,  0.04347095],\n",
       "       [ 0.06241185,  0.35596026,  1.        , ..., -0.01785645,\n",
       "        -0.0374738 ,  0.01941494],\n",
       "       ..., \n",
       "       [-0.00908662, -0.0154443 , -0.01785645, ...,  1.        ,\n",
       "         0.05844907, -0.00628038],\n",
       "       [-0.01924782, -0.09388586, -0.0374738 , ...,  0.05844907,\n",
       "         1.        , -0.04270458],\n",
       "       [ 0.00632743,  0.04347095,  0.01941494, ..., -0.00628038,\n",
       "        -0.04270458,  1.        ]])"
      ]
     },
     "execution_count": 45,
     "metadata": {},
     "output_type": "execute_result"
    }
   ],
   "source": [
    "# 备注：每行是一个数据样本\n",
    "np.corrcoef(dac_without_fillna.values, rowvar=0)"
   ]
  },
  {
   "cell_type": "code",
   "execution_count": 56,
   "metadata": {
    "collapsed": false
   },
   "outputs": [
    {
     "data": {
      "text/plain": [
       "Index([      u'SocialNetwork_15',       u'SocialNetwork_17',\n",
       "                   u'Log_(1, 1)',     u'Userupdate__cityid',\n",
       "              u'Education_Info1',      u'Education_Info2_E',\n",
       "            u'Education_Info3_E',        u'Education_Info5',\n",
       "            u'Education_Info6_E',      u'Education_Info7_E',\n",
       "            u'Education_Info8_E',            u'UserInfo_21',\n",
       "                u'UserInfo_23_D',          u'UserInfo_22_D',\n",
       "       u'ThirdParty_Info_10_min'],\n",
       "      dtype='object')"
      ]
     },
     "execution_count": 56,
     "metadata": {},
     "output_type": "execute_result"
    }
   ],
   "source": [
    "# np.corrcoef(dac_without.rank(pct=True).fillna(0.5).values, rowvar=0)\n",
    "# np.tril(np.corrcoef(dac_without.rank(pct=True).fillna(0.5).values, rowvar=0), k=-1)\n",
    "test = np.abs(np.tril(np.corrcoef(dac_without.rank(pct=True).fillna(0.5).values, rowvar=0), k=-1)) > 0.99\n",
    "# np.any(test, axis=0)\n",
    "dac_without.columns[np.any(test, axis=0)]"
   ]
  },
  {
   "cell_type": "code",
   "execution_count": 41,
   "metadata": {
    "collapsed": false
   },
   "outputs": [
    {
     "name": "stdout",
     "output_type": "stream",
     "text": [
      "(49999, 313)\n",
      "(313, 313)\n"
     ]
    },
    {
     "data": {
      "text/plain": [
       "array([[ 1.        ,  0.0174169 ,  0.07101909, ...,  0.01518546,\n",
       "        -0.02191774, -0.0042499 ],\n",
       "       [ 0.0174169 ,  1.        ,  0.35731575, ..., -0.01221491,\n",
       "        -0.10078398,  0.10079517],\n",
       "       [ 0.07101909,  0.35731575,  1.        , ..., -0.017931  ,\n",
       "        -0.04199215,  0.06231084],\n",
       "       ..., \n",
       "       [ 0.01518546, -0.01221491, -0.017931  , ...,  1.        ,\n",
       "         0.06093065,  0.01182617],\n",
       "       [-0.02191774, -0.10078398, -0.04199215, ...,  0.06093065,\n",
       "         1.        , -0.05636342],\n",
       "       [-0.0042499 ,  0.10079517,  0.06231084, ...,  0.01182617,\n",
       "        -0.05636342,  1.        ]])"
      ]
     },
     "execution_count": 41,
     "metadata": {},
     "output_type": "execute_result"
    }
   ],
   "source": [
    "print dac_without.rank(pct=True).fillna(0.5).shape\n",
    "print np.corrcoef(dac_without.rank(pct=True).fillna(0.5).values, rowvar=0).shape\n",
    "\n",
    "# rowvar : bool, optional\n",
    "# If rowvar is True (default), then each row represents a variable, with observations in the columns. \n",
    "# Otherwise, the relationship is transposed: each column represents a variable, while the rows contain observations."
   ]
  },
  {
   "cell_type": "code",
   "execution_count": 38,
   "metadata": {
    "collapsed": false
   },
   "outputs": [
    {
     "name": "stdout",
     "output_type": "stream",
     "text": [
      "\n",
      "\n"
     ]
    }
   ],
   "source": [
    "# rank函数 & fillna(0.5) after rank()\n",
    "# 先填充 先做中位数填充再rank()\n",
    "# 后填充 rank()后填充fillna(0.5) 因为rank()的default param na_option='keep' \n",
    "# 上面两种处理方式的结果不太一样\n",
    "dac_without.rank(pct=True)# default param axis=0\n",
    "# dac_without_fillna = dac_without.fillna(dac_without.median(), axis=0)\n",
    "# print dac_without.rank(pct=True).fillna(0.5).iloc[:5, :5]\n",
    "print '\\n'\n",
    "# print dac_without_fillna.rank(pct=True).iloc[:5, :5]"
   ]
  },
  {
   "cell_type": "code",
   "execution_count": 71,
   "metadata": {
    "collapsed": false
   },
   "outputs": [],
   "source": [
    "# 画出相关矩阵图像\n",
    "import seaborn as sns\n",
    "# corrmat = dac_without_fillna.corr()\n",
    "corrmat = np.corrcoef(dac_without.rank(pct=True).fillna(0.5), rowvar=0)"
   ]
  },
  {
   "cell_type": "code",
   "execution_count": 76,
   "metadata": {
    "collapsed": false
   },
   "outputs": [],
   "source": [
    "# f,ax=plt.subplots(figsize=(16,12))\n",
    "# sns.heatmap(corrmat[:20,:20],vmax=.8,square=True)"
   ]
  },
  {
   "cell_type": "raw",
   "metadata": {},
   "source": [
    "# Clean_data 数据预处理整体函数调试\n",
    "dac = da.copy().replace([-np.inf, np.inf], np.nan).replace(u'不详', np.nan)\n",
    "datime = pd.concat(map(lambda i: Time_to_num(dac.loc[:,i]), ictype['date']), axis = 1)\n",
    "# datime.head()\n",
    "dacatmap = pd.concat(map(lambda i: Cat_map(dac.loc[:,ictype[\"catmap\"][i]], ictype[\"catmapd\"][i]), range(len(ictype[\"catmap\"]))), axis = 1)\n",
    "dacatmap.head(10).transpose()"
   ]
  },
  {
   "cell_type": "raw",
   "metadata": {
    "collapsed": false
   },
   "source": [
    "# dac.rank(method='min').head()\n",
    "# dac.rank(pct=True).fillna(0.5)\n",
    "\n",
    "# rowvar : bool, optional\n",
    "# If rowvar is True (default), then each row represents a variable, \n",
    "# with observations in the columns. Otherwise, the relationship is transposed: \n",
    "# each column represents a variable, while the rows contain observations.\n",
    "# dac_test = dac.copy().iloc[:,:200]\n",
    "dac_test = dac.copy()\n",
    "dac_test.shape\n",
    "corr = np.corrcoef(dac_test.rank(pct=True).fillna(0.5).values, rowvar=0)\n",
    "# pd.DataFrame(corr)\n",
    "corr_trilabs = np.abs(np.tril(corr, -1))\n",
    "# pd.DataFrame(corr_trilabs).to_csv('{}/{}_corr_tril_abs.csv'.format(path, title), encoding='utf-8')\n",
    "# pd.DataFrame(corr_trilabs) > 0.99\n",
    "np.any(corr_trilabs>0.99, axis=0)"
   ]
  },
  {
   "cell_type": "code",
   "execution_count": 163,
   "metadata": {
    "collapsed": false
   },
   "outputs": [
    {
     "name": "stdout",
     "output_type": "stream",
     "text": [
      "(49999, 388)\n"
     ]
    }
   ],
   "source": [
    "y = dac.loc[:, [icy]]\n",
    "icx = list(set(dac.columns) - set([icy]))\n",
    "x = dac.loc[:, icx]\n",
    "# 使用中位数填充缺失值\n",
    "x = x.apply(lambda x: x.fillna(x.median()), axis=0)\n",
    "print x.shape"
   ]
  },
  {
   "cell_type": "code",
   "execution_count": 185,
   "metadata": {
    "collapsed": false
   },
   "outputs": [
    {
     "data": {
      "image/png": "[encoded data removed]",
      "text/plain": [
       "<matplotlib.figure.Figure at 0x12704dd50>"
      ]
     },
     "metadata": {},
     "output_type": "display_data"
    }
   ],
   "source": [
    "# icy\n",
    "# dac.loc[:,[icy]]\n",
    "# 正态标准化\n",
    "# 正态标准化的特点：只保留排序关系，彻底去除有偏分布和极端值，在大样本情况下直接满足众多模型假设\n",
    "x_test = x.iloc[:, :5]\n",
    "x_test.head()\n",
    "xx_test = x_test.iloc[:,0]\n",
    "# xx_test.hist()\n",
    "# xx_test.plot(kind='kde')\n",
    "obj = xx_test\n",
    "fig = plt.figure(figsize=(12,4))\n",
    "# fig.set(alpha = 1)\n",
    "plt.subplot2grid((2,3),(0,0))\n",
    "obj.plot(kind='kde')\n",
    "plt.xlim(-0.1, 0.1)\n",
    "plt.legend(['{} origin'.format(obj.name)], loc='best')\n",
    "plt.grid()\n",
    "plt.title('Origin pdf/hist Curve')\n",
    "obj_zscore = (obj - obj.mean())/obj.std()\n",
    "obj_norm = (obj.rank(pct=True) - 0.5/obj.shape[0]).apply(st.norm.ppf)\n",
    "\n",
    "plt.subplot2grid((2,3),(0,1),colspan=2)\n",
    "obj_zscore.plot(kind='kde')\n",
    "obj_norm.plot(kind='kde')\n",
    "plt.xlim(-1, 1)\n",
    "plt.legend(['{} Z-Score'.format(obj.name),'{} norm'.format(obj.name)], loc='best')\n",
    "plt.grid()\n",
    "plt.title('Z-Score & Normalization pdf Curve')\n",
    "\n",
    "plt.subplot2grid((2,3),(1,0))\n",
    "obj.hist()\n",
    "plt.grid()\n",
    "\n",
    "plt.subplot2grid((2,3),(1,1), colspan=2)\n",
    "obj_zscore.plot(kind='kde')\n",
    "obj_norm.plot(kind='kde')\n",
    "plt.xlim(-0.15, 0.15)\n",
    "plt.legend(['{} Z-Score'.format(obj.name),'{} norm'.format(obj.name)], loc='best')\n",
    "plt.grid()\n",
    "plt.show()\n",
    "# fig.savefig(\"/Users/fanghan/Desktop/zscore_normalization_2.png\")"
   ]
  },
  {
   "cell_type": "code",
   "execution_count": 192,
   "metadata": {
    "collapsed": false
   },
   "outputs": [
    {
     "name": "stdout",
     "output_type": "stream",
     "text": [
      "0-1分布数据：\n",
      "shape= (49999,)\n",
      "Idx\n",
      "10001    0.0\n",
      "10002    0.0\n",
      "10003    0.0\n",
      "10006    0.0\n",
      "10007    0.0\n",
      "Name: Education_Info4_AR, dtype: float64\n",
      "\n",
      "value_counts:\n",
      "0.0    49873\n",
      "1.0      126\n",
      "Name: Education_Info4_AR, dtype: int64\n",
      "\n",
      "rank():\n",
      "Idx\n",
      "10001    24937.0\n",
      "10829    49936.5\n",
      "Name: Education_Info4_AR, dtype: float64\n",
      "\n",
      "rank(pct=True):\n",
      "Idx\n",
      "10001    0.49875\n",
      "10829    0.99875\n",
      "Name: Education_Info4_AR, dtype: float64\n",
      "\n",
      " debug for rank() & rank(pct=true):\n",
      "rank() of 0: 24937.0\n",
      "rank() of 1: 49936.5\n",
      "rank(pct=True) of 0: 0.498749974999\n",
      "rank(pct=True) of 1: 0.998749975\n",
      "Idx\n",
      "10001    0.49874\n",
      "10829    0.99874\n",
      "Name: Education_Info4_AR, dtype: float64\n"
     ]
    }
   ],
   "source": [
    "# 0-1两点分布 - 正态标准化\n",
    "# xx_test.describe()\n",
    "tmp = pd.value_counts(xx_test)\n",
    "print '0-1分布数据：'\n",
    "print 'shape=', np.shape(xx_test)\n",
    "print xx_test.head()\n",
    "print '\\nvalue_counts:'\n",
    "print tmp\n",
    "# rank : \n",
    "# Compute numerical data ranks (1 through n) along axis. \n",
    "# Equal values are assigned a rank that is the average of the ranks of those values 计数从1开始\n",
    "print '\\nrank():'\n",
    "print xx_test.rank().drop_duplicates()\n",
    "print '\\nrank(pct=True):'\n",
    "print xx_test.rank(pct=True).drop_duplicates()\n",
    "print '\\n debug for rank() & rank(pct=true):'\n",
    "print 'rank() of 0:', np.mean(1.0 + np.arange(tmp[0]))\n",
    "print 'rank() of 1:', np.mean(1.0 + tmp[0] + np.arange(tmp[1]))\n",
    "print 'rank(pct=True) of 0:', np.mean(1.0 + np.arange(tmp[0]))/np.shape(xx_test)[0]\n",
    "print 'rank(pct=True) of 1:', np.mean(1.0 + tmp[0] + np.arange(tmp[1]))/np.shape(xx_test)[0]\n",
    "# 理解：pct=True参数相当于rank()/shape[0]\n",
    "# 理解：xx_test.rank()的值域为[1,n]\n",
    "print (xx_test.rank(pct=True)-0.5/np.shape(xx_test)[0]).drop_duplicates()"
   ]
  },
  {
   "cell_type": "code",
   "execution_count": 101,
   "metadata": {
    "collapsed": false
   },
   "outputs": [],
   "source": [
    "# (xx_test.rank(pct=True)-0.5/xx_test.shape[0]).apply(st.norm.ppf)"
   ]
  },
  {
   "cell_type": "code",
   "execution_count": 72,
   "metadata": {
    "collapsed": false
   },
   "outputs": [],
   "source": [
    "# rank函数\n",
    "# a = np.arange(10)\n",
    "# a.rank() # AttributeError: 'numpy.ndarray' object has no attribute 'rank'\n",
    "# pd.Series(a).rank()"
   ]
  }
 ],
 "metadata": {
  "kernelspec": {
   "display_name": "Python 2",
   "language": "python",
   "name": "python2"
  },
  "language_info": {
   "codemirror_mode": {
    "name": "ipython",
    "version": 2
   },
   "file_extension": ".py",
   "mimetype": "text/x-python",
   "name": "python",
   "nbconvert_exporter": "python",
   "pygments_lexer": "ipython2",
   "version": "2.7.13"
  }
 },
 "nbformat": 4,
 "nbformat_minor": 0
}
